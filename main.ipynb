{
  "nbformat": 4,
  "nbformat_minor": 0,
  "metadata": {
    "colab": {
      "provenance": [],
      "authorship_tag": "ABX9TyN6oOCFGv7o7iwK8F/wVeyY",
      "include_colab_link": true
    },
    "kernelspec": {
      "name": "python3",
      "display_name": "Python 3"
    },
    "language_info": {
      "name": "python"
    }
  },
  "cells": [
    {
      "cell_type": "markdown",
      "metadata": {
        "id": "view-in-github",
        "colab_type": "text"
      },
      "source": [
        "<a href=\"https://colab.research.google.com/github/adityapentyala/FM-Assignment/blob/main/main.ipynb\" target=\"_parent\"><img src=\"https://colab.research.google.com/assets/colab-badge.svg\" alt=\"Open In Colab\"/></a>"
      ]
    },
    {
      "cell_type": "code",
      "execution_count": 1,
      "metadata": {
        "id": "j71MbfWXWhNZ"
      },
      "outputs": [],
      "source": [
        "import matplotlib.pyplot as plt\n",
        "import numpy as np\n"
      ]
    },
    {
      "cell_type": "code",
      "source": [
        "#Corporate tax rate\n",
        "tax=0.3"
      ],
      "metadata": {
        "id": "xeJqUq1JWn9B"
      },
      "execution_count": 2,
      "outputs": []
    },
    {
      "cell_type": "code",
      "source": [
        "#Defining a class which stores all relavent information of each firm\n",
        "class Company:\n",
        "    def __init__(self,de_ratio,intercept,name,beta_levered=None):\n",
        "        self.beta_levered=beta_levered\n",
        "        self.de_ratio=de_ratio\n",
        "        self.intercept=intercept\n",
        "        self.beta_unlevered: float = None\n",
        "        self.name=name"
      ],
      "metadata": {
        "id": "JgEcUu9nWtv_"
      },
      "execution_count": 3,
      "outputs": []
    },
    {
      "cell_type": "code",
      "source": [
        "#Function to unlever financial leverage from beta\n",
        "def unlevering(beta_levered,de_ratio,tax):\n",
        "  return beta_levered/((1+de_ratio)*(1-tax))"
      ],
      "metadata": {
        "id": "VA85-Y2rWxCC"
      },
      "execution_count": 4,
      "outputs": []
    },
    {
      "cell_type": "code",
      "source": [
        "#Function to relever the beta\n",
        "def relevering(beta_unlevered,de_ratio,tax):\n",
        "    return beta_unlevered*(1+(de_ratio*(1-tax)))"
      ],
      "metadata": {
        "id": "U5badL2WW3Oj"
      },
      "execution_count": 5,
      "outputs": []
    },
    {
      "cell_type": "code",
      "source": [
        "#Funtion calculating cost of equity\n",
        "def costofequity(rf,x,beta_relevered):\n",
        "    return rf+beta_relevered*(x)"
      ],
      "metadata": {
        "id": "ZWyt6ZIGW5sZ"
      },
      "execution_count": 6,
      "outputs": []
    },
    {
      "cell_type": "code",
      "source": [
        "#Function to calculate WACC\n",
        "def WACC_calc(cost_of_debt,tax,Wb,cost_of_equity,Ws):\n",
        "    return (cost_of_debt*(1-tax)*Wb)+(cost_of_equity*Ws)"
      ],
      "metadata": {
        "id": "Gq2BWNIIW8je"
      },
      "execution_count": 7,
      "outputs": []
    },
    {
      "cell_type": "code",
      "source": [
        "def plot_graph(comparable_companies: list[Company], target_company: Company):\n",
        "    plt.figure()\n",
        "    comparable_intercepts = []\n",
        "    print(target_company.name, \":\", target_company.beta_levered)\n",
        "    for company in comparable_companies:\n",
        "        print(company.name, \":\", company.beta_levered)\n",
        "        x = np.linspace(0, 10, 101)\n",
        "        y = company.intercept + company.beta_levered * x\n",
        "        comparable_intercepts.append(company.intercept)\n",
        "        plt.plot(x, y, label =company.name)\n",
        "    target_y = sum(comparable_intercepts)/len(comparable_intercepts) + target_company.beta_levered * x\n",
        "    plt.plot(x, target_y, label=target_company.name)\n",
        "    plt.xlabel(\"x\")\n",
        "    plt.ylabel(\"y\")\n",
        "    plt.legend()\n",
        "    plt.show()"
      ],
      "metadata": {
        "id": "12ICxD27XBNO"
      },
      "execution_count": 21,
      "outputs": []
    },
    {
      "cell_type": "code",
      "source": [
        "#Defining Company attributes\n",
        "HPCL=Company(2.33,-0.0005,\"HPCL\")\n",
        "BPCL=Company(1.14,-0.0022,\"BPCL\",1.2529)\n",
        "MRPL=Company(1.69,0.0082,\"MRPL\",1.3580)\n",
        "IOCL=Company(1,0.0021,\"IOCL\",1.0324)\n",
        "CPCL=Company(0.66,0.0118,\"CPCL\",1.3004)"
      ],
      "metadata": {
        "id": "hU8ygbOkXGv_"
      },
      "execution_count": 9,
      "outputs": []
    },
    {
      "cell_type": "code",
      "source": [
        "#Step 1: Unlevering the Beta values\n",
        "BPCL.beta_unlevered=unlevering(BPCL.beta_levered,BPCL.de_ratio,tax)\n",
        "MRPL.beta_unlevered=unlevering(MRPL.beta_levered,MRPL.de_ratio,tax)\n",
        "IOCL.beta_unlevered=unlevering(IOCL.beta_levered,IOCL.de_ratio,tax)\n",
        "CPCL.beta_unlevered=unlevering(CPCL.beta_levered,CPCL.de_ratio,tax)"
      ],
      "metadata": {
        "id": "8xlRS3O_XL10"
      },
      "execution_count": 10,
      "outputs": []
    },
    {
      "cell_type": "code",
      "source": [
        "#Step 2:Calculating the average of the unlevered betas\n",
        "betas_unlevered=[BPCL.beta_unlevered,MRPL.beta_unlevered,IOCL.beta_unlevered,CPCL.beta_unlevered]\n",
        "mean_beta_unlevered=sum(betas_unlevered)/len(betas_unlevered)"
      ],
      "metadata": {
        "id": "WmedAcrBXnZL"
      },
      "execution_count": 11,
      "outputs": []
    },
    {
      "cell_type": "code",
      "source": [
        "#Step 3:Relevering the mean unlevered beta with respect to HPCL\n",
        "HPCL_relevered=relevering(mean_beta_unlevered,HPCL.de_ratio,tax)\n",
        "HPCL.beta_levered=HPCL_relevered"
      ],
      "metadata": {
        "id": "TWGKxIsdXrG9"
      },
      "execution_count": 12,
      "outputs": []
    },
    {
      "cell_type": "code",
      "source": [
        "#Step 4:Calcutaing cost of equity and debt\n",
        "cost_of_equity=costofequity(0.0714,0.0143,HPCL_relevered)\n",
        "cost_of_debt=0.14  #The interest coverage ratio of the firm was -4.52 which equated to a 14% interest rate on debt"
      ],
      "metadata": {
        "id": "-CVu_HNyX0dJ"
      },
      "execution_count": 13,
      "outputs": []
    },
    {
      "cell_type": "code",
      "source": [
        "#Step 5:Calculating the weightage of debt and equity\n",
        "Ws=1/(1+HPCL.de_ratio)\n",
        "Wb=1-Ws"
      ],
      "metadata": {
        "id": "D_qmG_50X3b0"
      },
      "execution_count": 14,
      "outputs": []
    },
    {
      "cell_type": "code",
      "source": [
        "#Step 6:Calculating the WACC for the firm\n",
        "WACC=WACC_calc(cost_of_debt,tax,Wb,cost_of_equity,Ws)\n",
        "print(\"The value  of  WACC WACC\", WACC)\n",
        "\n",
        "\n",
        "market_value_debt=64517.22\n",
        "market_value_equity=141.85*461.2"
      ],
      "metadata": {
        "colab": {
          "base_uri": "https://localhost:8080/"
        },
        "id": "ryPLbp59X6_Z",
        "outputId": "dd176b2b-21b1-4015-fca1-6c4a912a3ca3"
      },
      "execution_count": 15,
      "outputs": [
        {
          "output_type": "stream",
          "name": "stdout",
          "text": [
            "The value  of  WACC WACC 0.09965539763584484\n"
          ]
        }
      ]
    },
    {
      "cell_type": "code",
      "source": [
        "plot_graph([BPCL, MRPL, IOCL, CPCL], HPCL)"
      ],
      "metadata": {
        "colab": {
          "base_uri": "https://localhost:8080/",
          "height": 536
        },
        "id": "YeKKep5BYOI8",
        "outputId": "072c7e44-6b1d-4747-b4be-1d2bd56d4ef5"
      },
      "execution_count": 22,
      "outputs": [
        {
          "output_type": "stream",
          "name": "stdout",
          "text": [
            "HPCL : 2.2456275613540773\n",
            "BPCL : 1.2529\n",
            "MRPL : 1.358\n",
            "IOCL : 1.0324\n",
            "CPCL : 1.3004\n"
          ]
        },
        {
          "output_type": "display_data",
          "data": {
            "text/plain": [
              "<Figure size 640x480 with 1 Axes>"
            ],
            "image/png": "[encoded data removed]"
          },
          "metadata": {}
        }
      ]
    }
  ]
}