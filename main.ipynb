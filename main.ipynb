{
  "nbformat": 4,
  "nbformat_minor": 0,
  "metadata": {
    "colab": {
      "provenance": [],
      "authorship_tag": "ABX9TyMgzBAZK9PIL3weLDZgif5H",
      "include_colab_link": true
    },
    "kernelspec": {
      "name": "python3",
      "display_name": "Python 3"
    },
    "language_info": {
      "name": "python"
    }
  },
  "cells": [
    {
      "cell_type": "markdown",
      "metadata": {
        "id": "view-in-github",
        "colab_type": "text"
      },
      "source": [
        "<a href=\"https://colab.research.google.com/github/adityapentyala/FM-Assignment/blob/main/main.ipynb\" target=\"_parent\"><img src=\"https://colab.research.google.com/assets/colab-badge.svg\" alt=\"Open In Colab\"/></a>"
      ]
    },
    {
      "cell_type": "markdown",
      "source": [
        "# Bottom-up Approach - Calculation of Beta for Hindustan Petroleum Corporation Ltd."
      ],
      "metadata": {
        "id": "wkPVaGaTtR3j"
      }
    },
    {
      "cell_type": "markdown",
      "source": [
        "All the source code used for this assignment, as well as the presentation, can be found at https://github.com/Aarav-H/FM-Assignment/tree/main"
      ],
      "metadata": {
        "id": "_7W0paQ-voGZ"
      }
    },
    {
      "cell_type": "markdown",
      "source": [
        "### Group no. 33\n",
        "\n",
        "\n",
        "1.   Aarav Haran - 2022B3A70880H\n",
        "2.   Vaishnu Kanna - 2022B3A71608H\n",
        "3.   Aditya Pentyala - 2022B3A70522H\n",
        "4.   Rishabh Nanda - 2022A3PS0652H\n",
        "\n",
        "\n",
        "\n"
      ],
      "metadata": {
        "id": "ScQwppUguKZx"
      }
    },
    {
      "cell_type": "markdown",
      "source": [
        "Given below is the source code for Bottom-up approach of calculating Beta for HPCL. The values of Beta and intercepts of the companies have already been calculated using the top-down code provided as part of the assignment. The regression notebooks for each company can be found at https://github.com/Aarav-H/FM-Assignment/tree/main/regression-notebooks."
      ],
      "metadata": {
        "id": "cjIPMcfDtg8o"
      }
    },
    {
      "cell_type": "markdown",
      "source": [
        "## Necessary imports"
      ],
      "metadata": {
        "id": "zbd6pZ0GwTKX"
      }
    },
    {
      "cell_type": "code",
      "execution_count": 151,
      "metadata": {
        "id": "j71MbfWXWhNZ"
      },
      "outputs": [],
      "source": [
        "import matplotlib.pyplot as plt\n",
        "import numpy as np\n"
      ]
    },
    {
      "cell_type": "markdown",
      "source": [
        "## Setting financial values"
      ],
      "metadata": {
        "id": "X6KyIYaIwX6G"
      }
    },
    {
      "cell_type": "markdown",
      "source": [
        "These values are global to this entire notebook. SOurces of information have been mentioned as well."
      ],
      "metadata": {
        "id": "OMNEYKZ8wv7q"
      }
    },
    {
      "cell_type": "code",
      "source": [
        "#Corporate tax rate from https://www.incometax.gov.in/iec/foportal/help/company/return-applicable#taxslabs\n",
        "tax = 0.25 #assuming the companies come under the \"any other domestic company\" tax slab\n",
        "\n",
        "#risk-free rate from https://epwrfits.in/Display_TreeViewSecurity.aspx\n",
        "rfr = 0.071361\n",
        "\n",
        "#market risk premium, obtained from http://www.market-risk-premia.com/in.html\n",
        "market_rp = 0.0143\n",
        "\n",
        "#HPCL stock price as of 09-04-24, as listed on https://www.nseindia.com/get-quotes/equity?symbol=HINDPETRO\n",
        "HPCL_stock_price = 458.85\n",
        "\n",
        "#no of shares (in crores), HPCL, as listed on https://ticker.finology.in/company/HINDPETRO\n",
        "HPCL_n_shares_cr = 141.85"
      ],
      "metadata": {
        "id": "xeJqUq1JWn9B"
      },
      "execution_count": 152,
      "outputs": []
    },
    {
      "cell_type": "markdown",
      "source": [
        "## Creating a Company class"
      ],
      "metadata": {
        "id": "vXCvy0I1w42M"
      }
    },
    {
      "cell_type": "markdown",
      "source": [
        "Allows for the creation of Company objects that contain attributes of each of the companies"
      ],
      "metadata": {
        "id": "06Zk-1DDw8Rp"
      }
    },
    {
      "cell_type": "code",
      "source": [
        "#Defining a class which stores all relevant information of each firm\n",
        "class Company:\n",
        "    def __init__(self,de_ratio,intercept,name,beta_levered=None):\n",
        "        self.beta_levered=beta_levered\n",
        "        self.de_ratio=de_ratio\n",
        "        self.intercept=intercept\n",
        "        self.beta_unlevered: float = None\n",
        "        self.name=name"
      ],
      "metadata": {
        "id": "JgEcUu9nWtv_"
      },
      "execution_count": 153,
      "outputs": []
    },
    {
      "cell_type": "markdown",
      "source": [
        "## Defining functions to calculate costs"
      ],
      "metadata": {
        "id": "nSfULTflxI3b"
      }
    },
    {
      "cell_type": "code",
      "source": [
        "#Function to unlever financial leverage from beta\n",
        "def unlevering(beta_levered,de_ratio,tax):\n",
        "  return beta_levered/(1+(de_ratio*(1-tax)))"
      ],
      "metadata": {
        "id": "VA85-Y2rWxCC"
      },
      "execution_count": 154,
      "outputs": []
    },
    {
      "cell_type": "code",
      "source": [
        "#Function to relever the beta\n",
        "def relevering(beta_unlevered,de_ratio,tax):\n",
        "    return beta_unlevered*(1+(de_ratio*(1-tax)))"
      ],
      "metadata": {
        "id": "U5badL2WW3Oj"
      },
      "execution_count": 155,
      "outputs": []
    },
    {
      "cell_type": "code",
      "source": [
        "#Funtion calculating cost of equity\n",
        "def costofequity(rf,market_rp,beta_relevered):\n",
        "    return rf+beta_relevered*(market_rp)"
      ],
      "metadata": {
        "id": "ZWyt6ZIGW5sZ"
      },
      "execution_count": 156,
      "outputs": []
    },
    {
      "cell_type": "code",
      "source": [
        "#Function to calculate WACC\n",
        "def WACC_calc(cost_of_debt,tax,Wb,cost_of_equity,Ws):\n",
        "    return (cost_of_debt*(1-tax)*Wb)+(cost_of_equity*Ws)"
      ],
      "metadata": {
        "id": "Gq2BWNIIW8je"
      },
      "execution_count": 157,
      "outputs": []
    },
    {
      "cell_type": "markdown",
      "source": [
        "## Defining a function to plot Ri vs Rm for the companies"
      ],
      "metadata": {
        "id": "vMiL-vuZxcUE"
      }
    },
    {
      "cell_type": "code",
      "source": [
        "def plot_graph(comparable_companies: list[Company], target_company: Company):\n",
        "    plt.figure()\n",
        "    comparable_intercepts = []\n",
        "    print(target_company.name, \":\", target_company.beta_levered)\n",
        "    for company in comparable_companies:\n",
        "        print(company.name, \":\", company.beta_levered)\n",
        "        x = np.linspace(0, 10, 101)\n",
        "        y = company.intercept + company.beta_levered * x\n",
        "        comparable_intercepts.append(company.intercept)\n",
        "        plt.plot(x, y, label=company.name, linestyle='dashed')\n",
        "    target_y = sum(comparable_intercepts)/len(comparable_intercepts) + target_company.beta_levered * x\n",
        "    plt.plot(x, target_y, label=target_company.name)\n",
        "    plt.xlabel(\"Market interest rate\")\n",
        "    plt.ylabel(\"Firm's interest rate\")\n",
        "    plt.title(\"Firm interest rate vs market interest rate\")\n",
        "    plt.legend()\n",
        "    plt.show()"
      ],
      "metadata": {
        "id": "12ICxD27XBNO"
      },
      "execution_count": 158,
      "outputs": []
    },
    {
      "cell_type": "markdown",
      "source": [
        "## Calculating market values of debt and equity"
      ],
      "metadata": {
        "id": "HzSQb6Qyxnpe"
      }
    },
    {
      "cell_type": "markdown",
      "source": [
        "Market value of debt obtained from the given source.\n",
        "Market value of equity calculated using the formula stock price * no. of shares outstanding."
      ],
      "metadata": {
        "id": "3ViAZZjmxxB6"
      }
    },
    {
      "cell_type": "code",
      "source": [
        "#calculating market values of debt & equity of HPCL\n",
        "market_value_debt_HPCL_cr = 64517.22 #pulled from https://ticker.finology.in/company/HINDPETRO\n",
        "market_value_equity_HPCL_cr = HPCL_stock_price * HPCL_n_shares_cr #stock price * no of shares outstanding"
      ],
      "metadata": {
        "id": "VDNOSUxxX3CJ"
      },
      "execution_count": 159,
      "outputs": []
    },
    {
      "cell_type": "markdown",
      "source": [
        "## Obtaining D/E ratios for each company and creating company objects"
      ],
      "metadata": {
        "id": "l8LvYC8eyKXO"
      }
    },
    {
      "cell_type": "code",
      "source": [
        "#D-E Ratios, sourced from https://ticker.finology.in\n",
        "HPCL_de = 2.33\n",
        "BPCL_de = 1.14\n",
        "MRPL_de = 1.69\n",
        "IOCL_de = 1.00\n",
        "CPCL_de = 0.66"
      ],
      "metadata": {
        "id": "V4_2ruF4vd5c"
      },
      "execution_count": 160,
      "outputs": []
    },
    {
      "cell_type": "code",
      "source": [
        "#Defining Company attributes\n",
        "HPCL=Company(HPCL_de,-0.0005,\"HPCL\")\n",
        "BPCL=Company(BPCL_de,-0.0022,\"BPCL\",1.2529)\n",
        "MRPL=Company(MRPL_de,0.0082,\"MRPL\",1.3580)\n",
        "IOCL=Company(IOCL_de,0.0021,\"IOCL\",1.0324)\n",
        "CPCL=Company(CPCL_de,0.0118,\"CPCL\",1.3004)"
      ],
      "metadata": {
        "id": "hU8ygbOkXGv_"
      },
      "execution_count": 161,
      "outputs": []
    },
    {
      "cell_type": "markdown",
      "source": [
        "## Step-by-step calculation of WACC"
      ],
      "metadata": {
        "id": "LT-TsLU2yTMv"
      }
    },
    {
      "cell_type": "markdown",
      "source": [
        "Given below are the step-by-step cells used to calculate Beta & WACC of HPCL."
      ],
      "metadata": {
        "id": "sLb2EIKNycoa"
      }
    },
    {
      "cell_type": "code",
      "source": [
        "#Step 1: Unlevering the Beta values\n",
        "BPCL.beta_unlevered=unlevering(BPCL.beta_levered,BPCL.de_ratio,tax)\n",
        "MRPL.beta_unlevered=unlevering(MRPL.beta_levered,MRPL.de_ratio,tax)\n",
        "IOCL.beta_unlevered=unlevering(IOCL.beta_levered,IOCL.de_ratio,tax)\n",
        "CPCL.beta_unlevered=unlevering(CPCL.beta_levered,CPCL.de_ratio,tax)"
      ],
      "metadata": {
        "id": "8xlRS3O_XL10"
      },
      "execution_count": 162,
      "outputs": []
    },
    {
      "cell_type": "code",
      "source": [
        "#Step 2:Calculating the average of the unlevered betas\n",
        "betas_unlevered=[BPCL.beta_unlevered,MRPL.beta_unlevered,IOCL.beta_unlevered,CPCL.beta_unlevered]\n",
        "mean_beta_unlevered=sum(betas_unlevered)/len(betas_unlevered)"
      ],
      "metadata": {
        "id": "WmedAcrBXnZL"
      },
      "execution_count": 163,
      "outputs": []
    },
    {
      "cell_type": "code",
      "source": [
        "#Step 3:Relevering the mean unlevered beta with respect to HPCL\n",
        "HPCL_relevered=relevering(mean_beta_unlevered,HPCL.de_ratio,tax)\n",
        "HPCL.beta_levered=HPCL_relevered\n",
        "print(\"Beta levered of HPCL is: \", HPCL.beta_levered)"
      ],
      "metadata": {
        "id": "TWGKxIsdXrG9",
        "colab": {
          "base_uri": "https://localhost:8080/"
        },
        "outputId": "9f98c5f6-df5d-4f04-884a-c1ca4e6c8a8b"
      },
      "execution_count": 164,
      "outputs": [
        {
          "output_type": "stream",
          "name": "stdout",
          "text": [
            "Beta levered of HPCL is:  1.8779786779995993\n"
          ]
        }
      ]
    },
    {
      "cell_type": "code",
      "source": [
        "#Step 4:Calcutaing cost of equity and debt\n",
        "cost_of_equity=costofequity(rfr, market_rp, HPCL.beta_levered)\n",
        "cost_of_debt=0.14  #The interest coverage ratio of the firm was -4.52 which equated to a 14% interest rate on debt"
      ],
      "metadata": {
        "id": "-CVu_HNyX0dJ"
      },
      "execution_count": 165,
      "outputs": []
    },
    {
      "cell_type": "code",
      "source": [
        "#Step 5:Calculating the weightage of debt and equity\n",
        "Ws=1/(1+HPCL.de_ratio)\n",
        "Wb=1-Ws"
      ],
      "metadata": {
        "id": "D_qmG_50X3b0"
      },
      "execution_count": 166,
      "outputs": []
    },
    {
      "cell_type": "code",
      "source": [
        "#Step 6:Calculating the WACC for the firm\n",
        "WACC=WACC_calc(cost_of_debt,tax,Wb,cost_of_equity,Ws)\n",
        "print(\"The value of WACC for HPCL is \", WACC)\n",
        "\n",
        "print(\"HPCL's market value of equity is: \", market_value_equity_HPCL_cr, \"(in crores) as on 09-04-24\")\n",
        "print(\"HPCL's market value of debt is: \", market_value_debt_HPCL_cr, \"(in crores)\")"
      ],
      "metadata": {
        "colab": {
          "base_uri": "https://localhost:8080/"
        },
        "id": "ryPLbp59X6_Z",
        "outputId": "49eab442-f0d7-4444-82df-ff0eca3ed0fe"
      },
      "execution_count": 167,
      "outputs": [
        {
          "output_type": "stream",
          "name": "stdout",
          "text": [
            "The value of WACC for HPCL is  0.10296279131993823\n",
            "HPCL's market value of equity is:  65087.8725 (in crores) as on 09-04-24\n",
            "HPCL's market value of debt is:  64517.22 (in crores)\n"
          ]
        }
      ]
    },
    {
      "cell_type": "code",
      "source": [
        "plot_graph([BPCL, MRPL, IOCL, CPCL], HPCL)"
      ],
      "metadata": {
        "colab": {
          "base_uri": "https://localhost:8080/",
          "height": 559
        },
        "id": "YeKKep5BYOI8",
        "outputId": "31aeec33-11cc-4ab4-db8c-a2109d9e2da6"
      },
      "execution_count": 168,
      "outputs": [
        {
          "output_type": "stream",
          "name": "stdout",
          "text": [
            "HPCL : 1.8779786779995993\n",
            "BPCL : 1.2529\n",
            "MRPL : 1.358\n",
            "IOCL : 1.0324\n",
            "CPCL : 1.3004\n"
          ]
        },
        {
          "output_type": "display_data",
          "data": {
            "text/plain": [
              "<Figure size 640x480 with 1 Axes>"
            ],
            "image/png": "[encoded data removed]"
          },
          "metadata": {}
        }
      ]
    },
    {
      "cell_type": "code",
      "source": [
        "def plot_beta_histogram(companies: list[Company]):\n",
        "  plt.figure()\n",
        "  betas = [company.beta_levered for company in companies]\n",
        "  names = [company.name for company in companies]\n",
        "  colors = ['tab:red']\n",
        "  colors.extend((['tab:blue']*4))\n",
        "  print(betas, names, colors)\n",
        "  plt.bar(names, betas, color=colors)\n",
        "  plt.xlabel(\"Company\")\n",
        "  plt.ylabel(\"Beta\")\n",
        "  plt.title(\"Beta across companies\")\n",
        "  plt.show()"
      ],
      "metadata": {
        "id": "AuI5B-LA4CtO"
      },
      "execution_count": 169,
      "outputs": []
    },
    {
      "cell_type": "code",
      "source": [
        "plot_beta_histogram([HPCL, BPCL, CPCL, IOCL, MRPL])"
      ],
      "metadata": {
        "colab": {
          "base_uri": "https://localhost:8080/",
          "height": 509
        },
        "id": "hsoNR-G85fei",
        "outputId": "c087893e-ffdb-4fbc-9a19-211bb824703a"
      },
      "execution_count": 170,
      "outputs": [
        {
          "output_type": "stream",
          "name": "stdout",
          "text": [
            "[1.8779786779995993, 1.2529, 1.3004, 1.0324, 1.358] ['HPCL', 'BPCL', 'CPCL', 'IOCL', 'MRPL'] ['tab:red', 'tab:blue', 'tab:blue', 'tab:blue', 'tab:blue']\n"
          ]
        },
        {
          "output_type": "display_data",
          "data": {
            "text/plain": [
              "<Figure size 640x480 with 1 Axes>"
            ],
            "image/png": "[encoded data removed]"
          },
          "metadata": {}
        }
      ]
    },
    {
      "cell_type": "markdown",
      "source": [
        "## Interpretation of Beta value and graphs"
      ],
      "metadata": {
        "id": "j1RIPQWKzIxq"
      }
    },
    {
      "cell_type": "markdown",
      "source": [
        "From the graphs, it is clear that HPCL's interest rate is higher than the market interest rate. This can be attributed to the fact that HPCL's D/E ratio (2.33) is far higher than those of the other 4 companies in the same industry (averaged at 1.1225), leading upto a higher rate of risk."
      ],
      "metadata": {
        "id": "TvSqyJhYz6bX"
      }
    },
    {
      "cell_type": "markdown",
      "source": [
        "## Final Deliverables for HPCL"
      ],
      "metadata": {
        "id": "i5Tlfh5V1ODy"
      }
    },
    {
      "cell_type": "markdown",
      "source": [
        "WACC = 10.296%\n",
        "\n",
        "Market Value of Equity (as on 09-04-24) = 65087.8725 (in crores)\n",
        "\n",
        "Beta = 1.8780 (using bottom-up approach)"
      ],
      "metadata": {
        "id": "jRgH5vTZ1RDl"
      }
    }
  ]
}